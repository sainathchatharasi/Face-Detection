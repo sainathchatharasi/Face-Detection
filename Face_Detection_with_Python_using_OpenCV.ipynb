{
  "nbformat": 4,
  "nbformat_minor": 0,
  "metadata": {
    "accelerator": "GPU",
    "colab": {
      "name": "Face_Detection_with_Python_using_OpenCV.ipynb",
      "provenance": [],
      "collapsed_sections": [],
      "include_colab_link": true
    },
    "kernelspec": {
      "display_name": "Python 3",
      "language": "python",
      "name": "python3"
    },
    "language_info": {
      "codemirror_mode": {
        "name": "ipython",
        "version": 3
      },
      "file_extension": ".py",
      "mimetype": "text/x-python",
      "name": "python",
      "nbconvert_exporter": "python",
      "pygments_lexer": "ipython3",
      "version": "3.8.3"
    }
  },
  "cells": [
    {
      "cell_type": "markdown",
      "metadata": {
        "id": "view-in-github",
        "colab_type": "text"
      },
      "source": [
        "<a href=\"https://colab.research.google.com/github/sainathchatharasi/Face-Detection/blob/main/Face_Detection_with_Python_using_OpenCV.ipynb\" target=\"_parent\"><img src=\"https://colab.research.google.com/assets/colab-badge.svg\" alt=\"Open In Colab\"/></a>"
      ]
    },
    {
      "cell_type": "markdown",
      "metadata": {
        "id": "h4O4QuvzjAv_"
      },
      "source": [
        "# **Face Detection with Python using OpenCV**"
      ]
    },
    {
      "cell_type": "markdown",
      "metadata": {
        "id": "QwKTJQujjKfT"
      },
      "source": [
        "**Import the OpenCV library**"
      ]
    },
    {
      "cell_type": "code",
      "metadata": {
        "id": "tbnyKID1fg9W"
      },
      "source": [
        "import cv2"
      ],
      "execution_count": 1,
      "outputs": []
    },
    {
      "cell_type": "markdown",
      "metadata": {
        "id": "e43-7jkFjTfO"
      },
      "source": [
        "**Using the pre-trained classifier from OpenCV**"
      ]
    },
    {
      "cell_type": "code",
      "metadata": {
        "id": "w9REHTTogj-O"
      },
      "source": [
        "face_cascade = cv2.CascadeClassifier('face_detector.xml') #Load the cascade"
      ],
      "execution_count": null,
      "outputs": []
    },
    {
      "cell_type": "markdown",
      "metadata": {
        "id": "CzJU35JbjZQe"
      },
      "source": [
        "**Upload the imput image**"
      ]
    },
    {
      "cell_type": "code",
      "metadata": {
        "id": "CMezMPGth3v_"
      },
      "source": [
        "img = cv2.imread('test2.jpg') #Read the input image"
      ],
      "execution_count": null,
      "outputs": []
    },
    {
      "cell_type": "markdown",
      "metadata": {
        "id": "AfgU4e_EjcYG"
      },
      "source": [
        "**Perform face detection**"
      ]
    },
    {
      "cell_type": "code",
      "metadata": {
        "id": "RC4Tchhgh6Su"
      },
      "source": [
        "faces = face_cascade.detectMultiScale(img, 1.1, 4) #Detect faces"
      ],
      "execution_count": null,
      "outputs": []
    },
    {
      "cell_type": "markdown",
      "metadata": {
        "id": "Jb6Ebwwhjedv"
      },
      "source": [
        "**Drawing rectangle around the faces**"
      ]
    },
    {
      "cell_type": "code",
      "metadata": {
        "id": "sJGqpdxHh8te"
      },
      "source": [
        "#Draw rectangle around the faces\n",
        "for (x, y, w, h) in faces: \n",
        "  cv2.rectangle(img, (x, y), (x+w, y+h), (255, 0, 0), 2)"
      ],
      "execution_count": null,
      "outputs": []
    },
    {
      "cell_type": "markdown",
      "metadata": {
        "id": "aWWlE6VGjhnn"
      },
      "source": [
        "**Exporting the image file**"
      ]
    },
    {
      "cell_type": "code",
      "metadata": {
        "colab": {
          "base_uri": "https://localhost:8080/"
        },
        "id": "I7Xj6Tplh-_2",
        "outputId": "e9b801c6-95e6-49a0-bcb8-28806e5c6254"
      },
      "source": [
        "#Export the result\n",
        "cv2.imwrite(\"face_detected.png\", img) \n",
        "print('Photo successfully exported!')"
      ],
      "execution_count": null,
      "outputs": [
        {
          "output_type": "stream",
          "text": [
            "Photo successfully exported!\n"
          ],
          "name": "stdout"
        }
      ]
    },
    {
      "cell_type": "markdown",
      "metadata": {
        "id": "5zyBWfTdjj5P"
      },
      "source": [
        "\n",
        "\n",
        "---\n",
        "\n"
      ]
    }
  ]
}